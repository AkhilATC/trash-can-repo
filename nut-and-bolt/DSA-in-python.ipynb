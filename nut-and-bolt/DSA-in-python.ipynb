{
 "cells": [
  {
   "cell_type": "markdown",
   "id": "9a3cfae7",
   "metadata": {},
   "source": [
    "# Python Data Structures and Algorithms"
   ]
  },
  {
   "cell_type": "markdown",
   "id": "fe71328a",
   "metadata": {},
   "source": [
    "### List\n",
    "\n",
    "- ordered collection\n",
    "- hetrogenious\n",
    "- mutable"
   ]
  },
  {
   "cell_type": "code",
   "execution_count": 5,
   "id": "51fe64d8",
   "metadata": {},
   "outputs": [
    {
     "data": {
      "text/plain": [
       "['BoB', '❤️', 'Mary']"
      ]
     },
     "execution_count": 5,
     "metadata": {},
     "output_type": "execute_result"
    }
   ],
   "source": [
    "# list implementation\n",
    "\n",
    "data =  list()\n",
    "data.append('BoB')\n",
    "data.append('❤️')\n",
    "data.append('Mary')\n",
    "data"
   ]
  },
  {
   "cell_type": "markdown",
   "id": "f644e95f",
   "metadata": {},
   "source": [
    "### Tuple\n",
    "- immutable\n",
    "- Hetrogenious\n"
   ]
  },
  {
   "cell_type": "code",
   "execution_count": 6,
   "id": "2dd7b3ce",
   "metadata": {},
   "outputs": [
    {
     "data": {
      "text/plain": [
       "('BoB', '❤️', 'Mary')"
      ]
     },
     "execution_count": 6,
     "metadata": {},
     "output_type": "execute_result"
    }
   ],
   "source": [
    "# Tuple implementation\n",
    "tuple_data = tuple(data)\n",
    "tuple_data"
   ]
  },
  {
   "cell_type": "markdown",
   "id": "d46dec0f",
   "metadata": {},
   "source": [
    "### Set\n",
    "- mutable\n",
    "- Hetrogenious\n",
    "- remove duplicates\n"
   ]
  },
  {
   "cell_type": "code",
   "execution_count": 10,
   "id": "9a7fbbcc",
   "metadata": {},
   "outputs": [
    {
     "data": {
      "text/plain": [
       "{'BoB', 'Mary', '❤️'}"
      ]
     },
     "execution_count": 10,
     "metadata": {},
     "output_type": "execute_result"
    }
   ],
   "source": [
    "set_data = set(data)\n",
    "set_data.add('BoB')\n",
    "set_data"
   ]
  },
  {
   "cell_type": "markdown",
   "id": "d17eecb6",
   "metadata": {},
   "source": [
    "### Frozen Sets\n",
    "\n",
    "- immutable"
   ]
  },
  {
   "cell_type": "code",
   "execution_count": 16,
   "id": "796ccc14",
   "metadata": {},
   "outputs": [
    {
     "data": {
      "text/plain": [
       "{1, 2, 3, 4}"
      ]
     },
     "execution_count": 16,
     "metadata": {},
     "output_type": "execute_result"
    }
   ],
   "source": [
    "normal_set = {1,2,3}\n",
    "forzen =  frozenset([1,2,3])\n",
    "# We can add 4 in both\n",
    "normal_set.add(4)\n",
    "# forzen.add(4) # AttributeError: 'frozenset' object has no attribute 'add'\n",
    "normal_set"
   ]
  },
  {
   "cell_type": "markdown",
   "id": "75ce2d81",
   "metadata": {},
   "source": [
    "### Dictionary\n",
    "- mutable\n",
    "- unordered\n"
   ]
  },
  {
   "cell_type": "code",
   "execution_count": null,
   "id": "42e76af6",
   "metadata": {},
   "outputs": [],
   "source": [
    "#"
   ]
  }
 ],
 "metadata": {
  "kernelspec": {
   "display_name": "Python 3 (ipykernel)",
   "language": "python",
   "name": "python3"
  },
  "language_info": {
   "codemirror_mode": {
    "name": "ipython",
    "version": 3
   },
   "file_extension": ".py",
   "mimetype": "text/x-python",
   "name": "python",
   "nbconvert_exporter": "python",
   "pygments_lexer": "ipython3",
   "version": "3.8.10"
  }
 },
 "nbformat": 4,
 "nbformat_minor": 5
}
