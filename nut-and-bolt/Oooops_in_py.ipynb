{
 "cells": [
  {
   "cell_type": "markdown",
   "id": "29888447",
   "metadata": {},
   "source": [
    "# Object oriented programming in Python "
   ]
  },
  {
   "cell_type": "code",
   "execution_count": 26,
   "id": "886f8b53",
   "metadata": {},
   "outputs": [],
   "source": [
    "# Simple class \n",
    "class MusCat:\n",
    "    name = \"Mus\"\n",
    "    icon = \"🐈\"\n",
    "    \n",
    "    def mus_say_hello():\n",
    "        return f\"Mwow Mwow\""
   ]
  },
  {
   "cell_type": "code",
   "execution_count": 30,
   "id": "125741b3",
   "metadata": {},
   "outputs": [],
   "source": [
    "# Now we need to create a instance of MusCat class\n",
    "mus = f\"{MusCat.name} {MusCat.icon} : {MusCat.mus_say_hello()}\"\n",
    "# here we access class member varaiable and member function using instance of a class\n",
    "mus \n",
    "c =  MusCat()"
   ]
  },
  {
   "cell_type": "markdown",
   "id": "0b15fb91",
   "metadata": {},
   "source": [
    "### self keyword"
   ]
  },
  {
   "cell_type": "code",
   "execution_count": 33,
   "id": "fcb9d7cc",
   "metadata": {},
   "outputs": [
    {
     "ename": "TypeError",
     "evalue": "__str__() takes 0 positional arguments but 1 was given",
     "output_type": "error",
     "traceback": [
      "\u001b[0;31m---------------------------------------------------------------------------\u001b[0m",
      "\u001b[0;31mTypeError\u001b[0m                                 Traceback (most recent call last)",
      "Input \u001b[0;32mIn [33]\u001b[0m, in \u001b[0;36m<cell line: 6>\u001b[0;34m()\u001b[0m\n\u001b[1;32m      4\u001b[0m         \u001b[38;5;28;01mreturn\u001b[39;00m \u001b[38;5;124m\"\u001b[39m\u001b[38;5;124m🐀 king is lived here ...!!!!\u001b[39m\u001b[38;5;124m\"\u001b[39m\n\u001b[1;32m      5\u001b[0m a \u001b[38;5;241m=\u001b[39m  RatKing()\n\u001b[0;32m----> 6\u001b[0m \u001b[38;5;28;43mstr\u001b[39;49m\u001b[43m(\u001b[49m\u001b[43ma\u001b[49m\u001b[43m)\u001b[49m\n",
      "\u001b[0;31mTypeError\u001b[0m: __str__() takes 0 positional arguments but 1 was given"
     ]
    }
   ],
   "source": [
    "# self- referance python member function accept object of a class as argument\n",
    "class RatKing():\n",
    "    def __str__():\n",
    "        return \"🐀 king is lived here ...!!!!\"\n",
    "a =  RatKing()\n",
    "str(a) # This will raise a exception - TypeError: __str__() takes 0 positional arguments but 1 was given"
   ]
  },
  {
   "cell_type": "code",
   "execution_count": 34,
   "id": "302b700c",
   "metadata": {},
   "outputs": [
    {
     "data": {
      "text/plain": [
       "'🐀 king is lived here ...!!!!'"
      ]
     },
     "execution_count": 34,
     "metadata": {},
     "output_type": "execute_result"
    }
   ],
   "source": [
    "# Why this happend? memeber functions of class expect its own object so rewrite as follow\n",
    "class RatKing():\n",
    "    def __str__(self):\n",
    "        return \"🐀 king is lived here ...!!!!\"\n",
    "a =  RatKing()\n",
    "str(a)"
   ]
  },
  {
   "cell_type": "markdown",
   "id": "732a8f5b",
   "metadata": {},
   "source": [
    "### constructor in python class"
   ]
  },
  {
   "cell_type": "code",
   "execution_count": 36,
   "id": "af279f6b",
   "metadata": {},
   "outputs": [
    {
     "name": "stdout",
     "output_type": "stream",
     "text": [
      "\n",
      " man: chaya kittumo? \n",
      " response:👨 Nattil ebida?\n"
     ]
    }
   ],
   "source": [
    "class MalluOnMars:\n",
    "    def __init__(self,msg):\n",
    "        self.response = \"👨 Nattil ebida?\"\n",
    "        self.msg = msg\n",
    "    def display_conversation(self):\n",
    "        print(f\"\\n man: {self.msg} \\n response:{self.response}\")\n",
    "usr = MalluOnMars(\"chaya kittumo?\")\n",
    "usr.display_conversation()"
   ]
  },
  {
   "cell_type": "markdown",
   "id": "7bc1b4f4",
   "metadata": {},
   "source": [
    "### class method "
   ]
  },
  {
   "cell_type": "code",
   "execution_count": 38,
   "id": "1ac94357",
   "metadata": {},
   "outputs": [
    {
     "name": "stdout",
     "output_type": "stream",
     "text": [
      "2\n"
     ]
    }
   ],
   "source": [
    "class Donut():\n",
    "    instance = []\n",
    "    def __init__(self):\n",
    "        self.instance.append(self)\n",
    "a =  Donut()\n",
    "b = Donut()\n",
    "print(len(a.instance)) # created instance count"
   ]
  },
  {
   "cell_type": "code",
   "execution_count": 47,
   "id": "c2ec419f",
   "metadata": {},
   "outputs": [
    {
     "name": "stdout",
     "output_type": "stream",
     "text": [
      "Hello its me \n",
      "Hello its me \n"
     ]
    }
   ],
   "source": [
    "# now we can create a class method\n",
    "class Frog():\n",
    "    \n",
    "    def __init__(self,name):\n",
    "        self.name = name\n",
    "        \n",
    "    @staticmethod\n",
    "    def sayMaName():\n",
    "        print(f\"Hello its me \")\n",
    "    @classmethod\n",
    "    def cool(cls):\n",
    "        cls.sayMaName()\n",
    "a =  Frog(\"Makku\")\n",
    "Frog.sayMaName()\n",
    "a.cool()"
   ]
  },
  {
   "cell_type": "code",
   "execution_count": null,
   "id": "0c849a79",
   "metadata": {},
   "outputs": [],
   "source": []
  },
  {
   "cell_type": "code",
   "execution_count": null,
   "id": "331425f6",
   "metadata": {},
   "outputs": [],
   "source": []
  }
 ],
 "metadata": {
  "kernelspec": {
   "display_name": "Python 3 (ipykernel)",
   "language": "python",
   "name": "python3"
  },
  "language_info": {
   "codemirror_mode": {
    "name": "ipython",
    "version": 3
   },
   "file_extension": ".py",
   "mimetype": "text/x-python",
   "name": "python",
   "nbconvert_exporter": "python",
   "pygments_lexer": "ipython3",
   "version": "3.8.10"
  }
 },
 "nbformat": 4,
 "nbformat_minor": 5
}
