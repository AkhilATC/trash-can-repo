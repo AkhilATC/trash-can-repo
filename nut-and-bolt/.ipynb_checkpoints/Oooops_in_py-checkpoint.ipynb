{
 "cells": [
  {
   "cell_type": "markdown",
   "id": "29888447",
   "metadata": {},
   "source": [
    "# Object oriented programming in Python "
   ]
  },
  {
   "cell_type": "code",
   "execution_count": 26,
   "id": "886f8b53",
   "metadata": {},
   "outputs": [],
   "source": [
    "# Simple class \n",
    "class MusCat:\n",
    "    name = \"Mus\"\n",
    "    icon = \"🐈\"\n",
    "    \n",
    "    def mus_say_hello():\n",
    "        return f\"Mwow Mwow\""
   ]
  },
  {
   "cell_type": "code",
   "execution_count": 30,
   "id": "125741b3",
   "metadata": {},
   "outputs": [],
   "source": [
    "# Now we need to create a instance of MusCat class\n",
    "mus = f\"{MusCat.name} {MusCat.icon} : {MusCat.mus_say_hello()}\"\n",
    "# here we access class member varaiable and member function using instance of a class\n",
    "mus \n",
    "c =  MusCat()"
   ]
  },
  {
   "cell_type": "markdown",
   "id": "0b15fb91",
   "metadata": {},
   "source": [
    "### self keyword"
   ]
  },
  {
   "cell_type": "code",
   "execution_count": 33,
   "id": "fcb9d7cc",
   "metadata": {},
   "outputs": [
    {
     "ename": "TypeError",
     "evalue": "__str__() takes 0 positional arguments but 1 was given",
     "output_type": "error",
     "traceback": [
      "\u001b[0;31m---------------------------------------------------------------------------\u001b[0m",
      "\u001b[0;31mTypeError\u001b[0m                                 Traceback (most recent call last)",
      "Input \u001b[0;32mIn [33]\u001b[0m, in \u001b[0;36m<cell line: 6>\u001b[0;34m()\u001b[0m\n\u001b[1;32m      4\u001b[0m         \u001b[38;5;28;01mreturn\u001b[39;00m \u001b[38;5;124m\"\u001b[39m\u001b[38;5;124m🐀 king is lived here ...!!!!\u001b[39m\u001b[38;5;124m\"\u001b[39m\n\u001b[1;32m      5\u001b[0m a \u001b[38;5;241m=\u001b[39m  RatKing()\n\u001b[0;32m----> 6\u001b[0m \u001b[38;5;28;43mstr\u001b[39;49m\u001b[43m(\u001b[49m\u001b[43ma\u001b[49m\u001b[43m)\u001b[49m\n",
      "\u001b[0;31mTypeError\u001b[0m: __str__() takes 0 positional arguments but 1 was given"
     ]
    }
   ],
   "source": [
    "# self- referance python member function accept object of a class as argument\n",
    "class RatKing():\n",
    "    def __str__():\n",
    "        return \"🐀 king is lived here ...!!!!\"\n",
    "a =  RatKing()\n",
    "str(a) # This will raise a exception - TypeError: __str__() takes 0 positional arguments but 1 was given"
   ]
  },
  {
   "cell_type": "code",
   "execution_count": 34,
   "id": "302b700c",
   "metadata": {},
   "outputs": [
    {
     "data": {
      "text/plain": [
       "'🐀 king is lived here ...!!!!'"
      ]
     },
     "execution_count": 34,
     "metadata": {},
     "output_type": "execute_result"
    }
   ],
   "source": [
    "# Why this happend? memeber functions of class expect its own object so rewrite as follow\n",
    "class RatKing():\n",
    "    def __str__(self):\n",
    "        return \"🐀 king is lived here ...!!!!\"\n",
    "a =  RatKing()\n",
    "str(a)"
   ]
  },
  {
   "cell_type": "markdown",
   "id": "7bc1b4f4",
   "metadata": {},
   "source": [
    "### class method "
   ]
  },
  {
   "cell_type": "code",
   "execution_count": 38,
   "id": "1ac94357",
   "metadata": {},
   "outputs": [
    {
     "name": "stdout",
     "output_type": "stream",
     "text": [
      "2\n"
     ]
    }
   ],
   "source": [
    "class Donut():\n",
    "    instance = []\n",
    "    def __init__(self):\n",
    "        self.instance.append(self)\n",
    "a =  Donut()\n",
    "b = Donut()\n",
    "print(len(a.instance)) # created instance count"
   ]
  },
  {
   "cell_type": "code",
   "execution_count": 47,
   "id": "c2ec419f",
   "metadata": {},
   "outputs": [
    {
     "name": "stdout",
     "output_type": "stream",
     "text": [
      "Hello its me \n",
      "Hello its me \n"
     ]
    }
   ],
   "source": [
    "# now we can create a class method\n",
    "class Frog():\n",
    "    \n",
    "    def __init__(self,name):\n",
    "        self.name = name\n",
    "        \n",
    "    @staticmethod\n",
    "    def sayMaName():\n",
    "        print(f\"Hello its me \")\n",
    "    @classmethod\n",
    "    def cool(cls):\n",
    "        cls.sayMaName()\n",
    "a =  Frog(\"Makku\")\n",
    "Frog.sayMaName()\n",
    "a.cool()"
   ]
  },
  {
   "cell_type": "markdown",
   "id": "8164a2cf",
   "metadata": {},
   "source": [
    "## Object\n",
    "\n",
    "An object consists of : \n",
    "\n",
    "- State: It is represented by the attributes of an object. It also reflects the properties of an object.\n",
    "- Behaviour: It is represented by the methods of an object. It also reflects the response of an object to other objects.\n",
    "- Identity: It gives a unique name to an object and enables one object to interact with other objects."
   ]
  },
  {
   "cell_type": "code",
   "execution_count": 15,
   "id": "331425f6",
   "metadata": {},
   "outputs": [
    {
     "name": "stdout",
     "output_type": "stream",
     "text": [
      "Cercopithecidae\n",
      "🐒 : I'm belogs to Cercopithecidae\n",
      "None\n",
      "🐒: kola\n",
      "None\n",
      "{}\n",
      "27\n",
      "🐒 : I'm belogs to Cercopithecidae\n",
      "None\n"
     ]
    }
   ],
   "source": [
    "class monkey:\n",
    "    family = \"Cercopithecidae\"\n",
    "    \n",
    "    def print_info(self):\n",
    "        print(f\"🐒 : I'm belogs to {self.family}\")\n",
    "    def print_say_ma_name(self):\n",
    "        print(f\"🐒: kola\")\n",
    "    @staticmethod\n",
    "    def say_ma_age(dob):\n",
    "        return 2022 - dob\n",
    "        \n",
    "# object\n",
    "kola =  monkey()\n",
    "print(kola.family) # access monkey class attribute\n",
    "print(kola.print_info())\n",
    "print(kola.print_say_ma_name())\n",
    "print(kola.__dict__)\n",
    "print(monkey.say_ma_age(1995))\n",
    "print(monkey().print_info())"
   ]
  },
  {
   "cell_type": "markdown",
   "id": "169a270b",
   "metadata": {},
   "source": [
    "### class variable and instance variable\n"
   ]
  },
  {
   "cell_type": "code",
   "execution_count": 1,
   "id": "2744ecac",
   "metadata": {},
   "outputs": [
    {
     "name": "stdout",
     "output_type": "stream",
     "text": [
      "Racing car 🏎️  - FireExtnted - 240 km/hr\n"
     ]
    },
    {
     "data": {
      "text/plain": [
       "'Racing car 🏎️ '"
      ]
     },
     "execution_count": 1,
     "metadata": {},
     "output_type": "execute_result"
    }
   ],
   "source": [
    "class Car:\n",
    "    type_ = \"Racing car 🏎️ \" # class variable  \n",
    "    def __init__(self,model,speed):\n",
    "        self.model = model # instance variable\n",
    "        self.speed =  speed\n",
    "        \n",
    "# define a object of class car\n",
    "drift_v1 = Car(\"FireExtnted\",\"240 km/hr\")\n",
    "print(f\"{drift_v1.type_} - {drift_v1.model} - {drift_v1.speed}\")\n",
    "Car.type_ # class variable we can access via class name\n",
    "# Car.model throws error AttributeError: type object 'Car' has no attribute 'model'"
   ]
  },
  {
   "cell_type": "markdown",
   "id": "caacd2c1",
   "metadata": {},
   "source": [
    "## Constructor\n",
    "\n",
    "Types of constructors : \n",
    "\n",
    "1. default constructor: The default constructor is a simple constructor which doesn’t accept any arguments. Its definition has only one argument which is a reference to the instance being constructed.\n",
    "2. parameterized constructor: constructor with parameters is known as parameterized constructor. The parameterized constructor takes its first argument as a reference to the instance being constructed known as self and the rest of the arguments are provided by the programmer.\n"
   ]
  },
  {
   "cell_type": "code",
   "execution_count": 3,
   "id": "cf3d7efb",
   "metadata": {},
   "outputs": [
    {
     "name": "stdout",
     "output_type": "stream",
     "text": [
      "🐒 KokA \n"
     ]
    }
   ],
   "source": [
    "class Monkey:\n",
    "    def __init__(self,name): # init function\n",
    "        self.name = name\n",
    "   \n",
    "    def say_ma_name(self):\n",
    "        return f\"🐒 {self.name} \"\n",
    "\n",
    "m = Monkey(\"KokA\")\n",
    "print(m.say_ma_name())\n",
    "        "
   ]
  },
  {
   "cell_type": "markdown",
   "id": "e20659d6",
   "metadata": {},
   "source": [
    "### Destructors in Python\n",
    "Destructors are called when an object gets destroyed. \n",
    "In Python, destructors are not needed as much as in C++ because Python has a garbage collector that handles memory management automatically."
   ]
  },
  {
   "cell_type": "code",
   "execution_count": 10,
   "id": "acf01199",
   "metadata": {},
   "outputs": [
    {
     "name": "stdout",
     "output_type": "stream",
     "text": [
      "done\n",
      "Done--->🐒 i'm going to trash\n"
     ]
    }
   ],
   "source": [
    "class Monkey:\n",
    "    def __init__(self,name):\n",
    "        self.name = name\n",
    "    def __del__(self):\n",
    "        print(\"Done--->🐒 i'm going to trash\")\n",
    "        \n",
    "m = Monkey(\"ddk\")\n",
    "print(\"done\")\n",
    "del m"
   ]
  },
  {
   "cell_type": "code",
   "execution_count": 12,
   "id": "999f325e",
   "metadata": {},
   "outputs": [
    {
     "name": "stdout",
     "output_type": "stream",
     "text": [
      "init\n",
      "Bye BYE\n",
      "here\n"
     ]
    }
   ],
   "source": [
    "class Monkey:\n",
    "    def __init__(self,name):\n",
    "        print(\"init\")\n",
    "        self.name = name\n",
    "    def __del__(self):\n",
    "        print(\"Bye BYE\")\n",
    "def give_a_monkey():\n",
    "    return Monkey(\"Akui\")\n",
    "a = give_a_monkey()\n",
    "print(\"final--\")"
   ]
  },
  {
   "cell_type": "markdown",
   "id": "79abf98b",
   "metadata": {},
   "source": [
    "## Inheritance in python"
   ]
  },
  {
   "cell_type": "code",
   "execution_count": 18,
   "id": "d9a88e1a",
   "metadata": {},
   "outputs": [
    {
     "data": {
      "text/plain": [
       "{'name': 'CR7', 'age': 10}"
      ]
     },
     "execution_count": 18,
     "metadata": {},
     "output_type": "execute_result"
    }
   ],
   "source": [
    "# Parent class\n",
    "class Man(object):\n",
    "    \n",
    "    def __init__(self,name,age):\n",
    "        self.name = name\n",
    "        self.age = age\n",
    "        \n",
    "    def __call_me(self):\n",
    "        print(f\"COOL {self.name} {self.age} created...\")\n",
    "  \n",
    "    \n",
    "CR7 = Man(\"CR7\",10)\n",
    "CR7.__dict__"
   ]
  },
  {
   "cell_type": "code",
   "execution_count": 19,
   "id": "1cedde67",
   "metadata": {},
   "outputs": [
    {
     "ename": "TypeError",
     "evalue": "__init__() takes from 1 to 2 positional arguments but 4 were given",
     "output_type": "error",
     "traceback": [
      "\u001b[0;31m---------------------------------------------------------------------------\u001b[0m",
      "\u001b[0;31mTypeError\u001b[0m                                 Traceback (most recent call last)",
      "Input \u001b[0;32mIn [19]\u001b[0m, in \u001b[0;36m<cell line: 6>\u001b[0;34m()\u001b[0m\n\u001b[1;32m      3\u001b[0m     \u001b[38;5;28;01mdef\u001b[39;00m \u001b[38;5;21m__init__\u001b[39m(\u001b[38;5;28mself\u001b[39m,gadgets\u001b[38;5;241m=\u001b[39m[]):\n\u001b[1;32m      4\u001b[0m         \u001b[38;5;28mself\u001b[39m\u001b[38;5;241m.\u001b[39mgadgets \u001b[38;5;241m=\u001b[39m gadgets\n\u001b[0;32m----> 6\u001b[0m man2 \u001b[38;5;241m=\u001b[39m \u001b[43mRunner\u001b[49m\u001b[43m(\u001b[49m\u001b[38;5;124;43m\"\u001b[39;49m\u001b[38;5;124;43mJohn\u001b[39;49m\u001b[38;5;124;43m\"\u001b[39;49m\u001b[43m,\u001b[49m\u001b[38;5;241;43m10\u001b[39;49m\u001b[43m,\u001b[49m\u001b[43m[\u001b[49m\u001b[38;5;124;43m'\u001b[39;49m\u001b[38;5;124;43mshoe\u001b[39;49m\u001b[38;5;124;43m'\u001b[39;49m\u001b[43m]\u001b[49m\u001b[43m)\u001b[49m\n",
      "\u001b[0;31mTypeError\u001b[0m: __init__() takes from 1 to 2 positional arguments but 4 were given"
     ]
    }
   ],
   "source": [
    "# Now we can create a child/sub class\n",
    "class Runner(Man):\n",
    "    #def __init__(self,gadgets=[]):\n",
    "        #self.gadgets = gadgets\n",
    "    def __call__me_2(self):\n",
    "        print(\"---- BASE CLASS RUNNER Called ....\")\n",
    "\n",
    "man2 = Runner(\"John\",10,['shoe'])\n",
    "        "
   ]
  },
  {
   "cell_type": "code",
   "execution_count": null,
   "id": "7a89269b",
   "metadata": {},
   "outputs": [],
   "source": []
  }
 ],
 "metadata": {
  "kernelspec": {
   "display_name": "Python 3 (ipykernel)",
   "language": "python",
   "name": "python3"
  },
  "language_info": {
   "codemirror_mode": {
    "name": "ipython",
    "version": 3
   },
   "file_extension": ".py",
   "mimetype": "text/x-python",
   "name": "python",
   "nbconvert_exporter": "python",
   "pygments_lexer": "ipython3",
   "version": "3.8.10"
  }
 },
 "nbformat": 4,
 "nbformat_minor": 5
}
